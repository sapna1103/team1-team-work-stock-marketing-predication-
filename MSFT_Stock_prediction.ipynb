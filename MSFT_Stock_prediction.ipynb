{
 "cells": [
  {
   "cell_type": "markdown",
   "metadata": {
    "id": "qcJ-ZP5VBH0K"
   },
   "source": [
    "This is artificial recurrent neural network called Long Short Term Memory (LSTM)  used to predict closing stock  price of MSFT (microsoft)"
   ]
  },
  {
   "cell_type": "code",
   "execution_count": 75,
   "metadata": {
    "id": "VsI2myu-Aw2f"
   },
   "outputs": [],
   "source": [
    "# importing  libraries\n",
    "import pandas as pd\n",
    "import numpy as np\n",
    "from math import ceil\n",
    "import matplotlib.pyplot as plt\n",
    "import pandas_datareader as web\n",
    "from sklearn.preprocessing import MinMaxScaler\n",
    "from keras.models import Sequential\n",
    "from keras.layers import Dense,LSTM\n",
    "plt.style.use(\"fivethirtyeight\")"
   ]
  },
  {
   "cell_type": "code",
   "execution_count": 54,
   "metadata": {
    "id": "lxf0o0O5UuNU"
   },
   "outputs": [],
   "source": [
    "# getting the data\n",
    "df=web.DataReader(\"MSFT\",data_source=\"yahoo\",start=\"1986-03-13\",end=\"2021-05-13\")"
   ]
  },
  {
   "cell_type": "code",
   "execution_count": 55,
   "metadata": {
    "colab": {
     "base_uri": "https://localhost:8080/",
     "height": 234
    },
    "id": "w32uhE2NWIV-",
    "outputId": "220c2c66-e456-496e-acfc-22a636f1894b"
   },
   "outputs": [
    {
     "data": {
      "text/html": [
       "<div>\n",
       "<style scoped>\n",
       "    .dataframe tbody tr th:only-of-type {\n",
       "        vertical-align: middle;\n",
       "    }\n",
       "\n",
       "    .dataframe tbody tr th {\n",
       "        vertical-align: top;\n",
       "    }\n",
       "\n",
       "    .dataframe thead th {\n",
       "        text-align: right;\n",
       "    }\n",
       "</style>\n",
       "<table border=\"1\" class=\"dataframe\">\n",
       "  <thead>\n",
       "    <tr style=\"text-align: right;\">\n",
       "      <th></th>\n",
       "      <th>High</th>\n",
       "      <th>Low</th>\n",
       "      <th>Open</th>\n",
       "      <th>Close</th>\n",
       "      <th>Volume</th>\n",
       "      <th>Adj Close</th>\n",
       "    </tr>\n",
       "    <tr>\n",
       "      <th>Date</th>\n",
       "      <th></th>\n",
       "      <th></th>\n",
       "      <th></th>\n",
       "      <th></th>\n",
       "      <th></th>\n",
       "      <th></th>\n",
       "    </tr>\n",
       "  </thead>\n",
       "  <tbody>\n",
       "    <tr>\n",
       "      <th>1986-03-13</th>\n",
       "      <td>0.101563</td>\n",
       "      <td>0.088542</td>\n",
       "      <td>0.088542</td>\n",
       "      <td>0.097222</td>\n",
       "      <td>1.031789e+09</td>\n",
       "      <td>0.061491</td>\n",
       "    </tr>\n",
       "    <tr>\n",
       "      <th>1986-03-14</th>\n",
       "      <td>0.102431</td>\n",
       "      <td>0.097222</td>\n",
       "      <td>0.097222</td>\n",
       "      <td>0.100694</td>\n",
       "      <td>3.081600e+08</td>\n",
       "      <td>0.063687</td>\n",
       "    </tr>\n",
       "    <tr>\n",
       "      <th>1986-03-17</th>\n",
       "      <td>0.103299</td>\n",
       "      <td>0.100694</td>\n",
       "      <td>0.100694</td>\n",
       "      <td>0.102431</td>\n",
       "      <td>1.331712e+08</td>\n",
       "      <td>0.064785</td>\n",
       "    </tr>\n",
       "    <tr>\n",
       "      <th>1986-03-18</th>\n",
       "      <td>0.103299</td>\n",
       "      <td>0.098958</td>\n",
       "      <td>0.102431</td>\n",
       "      <td>0.099826</td>\n",
       "      <td>6.776640e+07</td>\n",
       "      <td>0.063138</td>\n",
       "    </tr>\n",
       "    <tr>\n",
       "      <th>1986-03-19</th>\n",
       "      <td>0.100694</td>\n",
       "      <td>0.097222</td>\n",
       "      <td>0.099826</td>\n",
       "      <td>0.098090</td>\n",
       "      <td>4.789440e+07</td>\n",
       "      <td>0.062040</td>\n",
       "    </tr>\n",
       "  </tbody>\n",
       "</table>\n",
       "</div>"
      ],
      "text/plain": [
       "                High       Low      Open     Close        Volume  Adj Close\n",
       "Date                                                                       \n",
       "1986-03-13  0.101563  0.088542  0.088542  0.097222  1.031789e+09   0.061491\n",
       "1986-03-14  0.102431  0.097222  0.097222  0.100694  3.081600e+08   0.063687\n",
       "1986-03-17  0.103299  0.100694  0.100694  0.102431  1.331712e+08   0.064785\n",
       "1986-03-18  0.103299  0.098958  0.102431  0.099826  6.776640e+07   0.063138\n",
       "1986-03-19  0.100694  0.097222  0.099826  0.098090  4.789440e+07   0.062040"
      ]
     },
     "execution_count": 55,
     "metadata": {},
     "output_type": "execute_result"
    }
   ],
   "source": [
    "# displaying the data\n",
    "df.head()"
   ]
  },
  {
   "cell_type": "code",
   "execution_count": 56,
   "metadata": {
    "colab": {
     "base_uri": "https://localhost:8080/",
     "height": 234
    },
    "id": "3t2cv3otYhCl",
    "outputId": "fc4bac18-68c3-4cdf-9a0d-bc56f6946ca6"
   },
   "outputs": [
    {
     "data": {
      "text/html": [
       "<div>\n",
       "<style scoped>\n",
       "    .dataframe tbody tr th:only-of-type {\n",
       "        vertical-align: middle;\n",
       "    }\n",
       "\n",
       "    .dataframe tbody tr th {\n",
       "        vertical-align: top;\n",
       "    }\n",
       "\n",
       "    .dataframe thead th {\n",
       "        text-align: right;\n",
       "    }\n",
       "</style>\n",
       "<table border=\"1\" class=\"dataframe\">\n",
       "  <thead>\n",
       "    <tr style=\"text-align: right;\">\n",
       "      <th></th>\n",
       "      <th>High</th>\n",
       "      <th>Low</th>\n",
       "      <th>Open</th>\n",
       "      <th>Close</th>\n",
       "      <th>Volume</th>\n",
       "      <th>Adj Close</th>\n",
       "    </tr>\n",
       "    <tr>\n",
       "      <th>Date</th>\n",
       "      <th></th>\n",
       "      <th></th>\n",
       "      <th></th>\n",
       "      <th></th>\n",
       "      <th></th>\n",
       "      <th></th>\n",
       "    </tr>\n",
       "  </thead>\n",
       "  <tbody>\n",
       "    <tr>\n",
       "      <th>2021-05-07</th>\n",
       "      <td>254.300003</td>\n",
       "      <td>251.169998</td>\n",
       "      <td>252.149994</td>\n",
       "      <td>252.460007</td>\n",
       "      <td>27032900.0</td>\n",
       "      <td>251.397110</td>\n",
       "    </tr>\n",
       "    <tr>\n",
       "      <th>2021-05-10</th>\n",
       "      <td>251.729996</td>\n",
       "      <td>247.119995</td>\n",
       "      <td>250.869995</td>\n",
       "      <td>247.179993</td>\n",
       "      <td>29299900.0</td>\n",
       "      <td>246.139343</td>\n",
       "    </tr>\n",
       "    <tr>\n",
       "      <th>2021-05-11</th>\n",
       "      <td>246.600006</td>\n",
       "      <td>242.570007</td>\n",
       "      <td>244.550003</td>\n",
       "      <td>246.229996</td>\n",
       "      <td>33641600.0</td>\n",
       "      <td>245.193329</td>\n",
       "    </tr>\n",
       "    <tr>\n",
       "      <th>2021-05-12</th>\n",
       "      <td>244.380005</td>\n",
       "      <td>238.070007</td>\n",
       "      <td>242.169998</td>\n",
       "      <td>239.000000</td>\n",
       "      <td>36684400.0</td>\n",
       "      <td>237.993790</td>\n",
       "    </tr>\n",
       "    <tr>\n",
       "      <th>2021-05-13</th>\n",
       "      <td>245.600006</td>\n",
       "      <td>241.419998</td>\n",
       "      <td>241.800003</td>\n",
       "      <td>243.029999</td>\n",
       "      <td>29624300.0</td>\n",
       "      <td>242.006805</td>\n",
       "    </tr>\n",
       "  </tbody>\n",
       "</table>\n",
       "</div>"
      ],
      "text/plain": [
       "                  High         Low  ...      Volume   Adj Close\n",
       "Date                                ...                        \n",
       "2021-05-07  254.300003  251.169998  ...  27032900.0  251.397110\n",
       "2021-05-10  251.729996  247.119995  ...  29299900.0  246.139343\n",
       "2021-05-11  246.600006  242.570007  ...  33641600.0  245.193329\n",
       "2021-05-12  244.380005  238.070007  ...  36684400.0  237.993790\n",
       "2021-05-13  245.600006  241.419998  ...  29624300.0  242.006805\n",
       "\n",
       "[5 rows x 6 columns]"
      ]
     },
     "execution_count": 56,
     "metadata": {},
     "output_type": "execute_result"
    }
   ],
   "source": [
    "df.tail()"
   ]
  },
  {
   "cell_type": "code",
   "execution_count": 57,
   "metadata": {
    "colab": {
     "base_uri": "https://localhost:8080/",
     "height": 0
    },
    "id": "OxkaYX80V_Gj",
    "outputId": "b33f765a-df1f-493a-d437-a14fcff945db"
   },
   "outputs": [
    {
     "data": {
      "text/plain": [
       "(8865, 6)"
      ]
     },
     "execution_count": 57,
     "metadata": {},
     "output_type": "execute_result"
    }
   ],
   "source": [
    "# checking the shape of data\n",
    "df.shape"
   ]
  },
  {
   "cell_type": "code",
   "execution_count": 58,
   "metadata": {
    "colab": {
     "base_uri": "https://localhost:8080/",
     "height": 555
    },
    "id": "yfoFqsTrWZq8",
    "outputId": "42b9e434-b8d6-48a2-93c3-345066f4bd1b"
   },
   "outputs": [
    {
     "data": {
      "image/png": "[encoded data removed]",
      "text/plain": [
       "<Figure size 1440x576 with 1 Axes>"
      ]
     },
     "metadata": {},
     "output_type": "display_data"
    }
   ],
   "source": [
    "# visualize the close price history\n",
    "plt.figure(figsize=(20,8))\n",
    "plt.title(\"Closing price trend\")\n",
    "plt.plot(df[\"Close\"])\n",
    "plt.xlabel(\"Date\",fontsize=15)\n",
    "plt.ylabel(\"Close price in USD ($)\",fontsize=15)\n",
    "plt.show()"
   ]
  },
  {
   "cell_type": "code",
   "execution_count": 59,
   "metadata": {
    "colab": {
     "base_uri": "https://localhost:8080/",
     "height": 0
    },
    "id": "qhedayu8Yxpo",
    "outputId": "1c802dfc-87d2-49fa-a4bb-ba30edb10124"
   },
   "outputs": [
    {
     "data": {
      "text/plain": [
       "array([[9.72220004e-02],\n",
       "       [1.00694001e-01],\n",
       "       [1.02430999e-01],\n",
       "       ...,\n",
       "       [2.46229996e+02],\n",
       "       [2.39000000e+02],\n",
       "       [2.43029999e+02]])"
      ]
     },
     "execution_count": 59,
     "metadata": {},
     "output_type": "execute_result"
    }
   ],
   "source": [
    "# creating dataframe of close_column\n",
    "data=df.filter([\"Close\"])\n",
    "dataset=data.values\n",
    "dataset"
   ]
  },
  {
   "cell_type": "code",
   "execution_count": 60,
   "metadata": {
    "colab": {
     "base_uri": "https://localhost:8080/",
     "height": 0
    },
    "id": "VJLZRBigY2b2",
    "outputId": "d0e4d1fe-1740-439a-8b3f-39002757132e"
   },
   "outputs": [
    {
     "data": {
      "text/plain": [
       "7092"
      ]
     },
     "execution_count": 60,
     "metadata": {},
     "output_type": "execute_result"
    }
   ],
   "source": [
    "# getting no of rows to train the model on \n",
    "training_data_len=ceil(len(dataset) * 0.8)\n",
    "training_data_len"
   ]
  },
  {
   "cell_type": "code",
   "execution_count": 61,
   "metadata": {
    "id": "3OJqedETZHFp"
   },
   "outputs": [],
   "source": [
    "# scaling the data\n",
    "scaler = MinMaxScaler(feature_range=(0,1))\n",
    "scaled_data = scaler.fit_transform(dataset)"
   ]
  },
  {
   "cell_type": "code",
   "execution_count": 62,
   "metadata": {
    "colab": {
     "base_uri": "https://localhost:8080/",
     "height": 0
    },
    "id": "H1LhiYKvalip",
    "outputId": "62c69177-afe4-423e-9d15-da0ba0d54ce1"
   },
   "outputs": [
    {
     "name": "stdout",
     "output_type": "stream",
     "text": [
      "[array([2.65159923e-05, 3.97739884e-05, 4.64067989e-05, 3.64594894e-05,\n",
      "       2.98304913e-05, 1.98869942e-05, 9.94349711e-06, 0.00000000e+00,\n",
      "       6.62899807e-06, 1.65724952e-05, 2.32014933e-05, 1.98869942e-05,\n",
      "       1.65724952e-05, 1.98869942e-05, 2.32014933e-05, 2.32014933e-05,\n",
      "       1.65724952e-05, 1.98869942e-05, 2.65159923e-05, 2.98304913e-05,\n",
      "       3.64594894e-05, 3.97739884e-05, 3.97739884e-05, 5.30357969e-05,\n",
      "       5.63502960e-05, 4.30922998e-05, 4.30922998e-05, 3.64594894e-05,\n",
      "       3.81167247e-05, 7.62372902e-05, 1.02757095e-04, 1.06071594e-04,\n",
      "       9.28097854e-05, 8.28662882e-05, 7.62372902e-05, 7.62372902e-05,\n",
      "       7.29227911e-05, 7.62372902e-05, 7.62372902e-05, 7.95517892e-05,\n",
      "       7.62372902e-05, 7.95517892e-05, 8.28662882e-05, 7.95517892e-05,\n",
      "       7.95517892e-05, 8.28662882e-05, 7.62372902e-05, 7.29227911e-05,\n",
      "       6.62937931e-05, 6.62937931e-05, 6.62937931e-05, 7.95517892e-05,\n",
      "       9.28097854e-05, 1.02757095e-04, 1.19329590e-04, 1.06071594e-04,\n",
      "       1.06071594e-04, 1.02757095e-04, 1.09386093e-04, 1.09386093e-04,\n",
      "       8.94952863e-05, 8.94952863e-05, 8.94952863e-05, 7.29227911e-05,\n",
      "       7.29227911e-05, 6.96082921e-05, 7.62372902e-05, 7.29227911e-05,\n",
      "       6.96082921e-05, 7.12655558e-05, 7.62372902e-05, 7.29227911e-05,\n",
      "       6.62937931e-05, 5.30357969e-05, 4.97212979e-05, 6.29792940e-05,\n",
      "       6.29792940e-05, 6.29792940e-05, 6.96082921e-05, 5.30357969e-05,\n",
      "       4.30922998e-05, 2.65159923e-05, 1.65724952e-05, 2.65159923e-05,\n",
      "       2.15442295e-05, 2.65159923e-05, 3.97739884e-05, 4.64067989e-05,\n",
      "       4.97212979e-05, 4.97212979e-05, 6.29792940e-05, 5.30357969e-05,\n",
      "       6.62937931e-05, 6.96082921e-05, 5.96647950e-05, 4.97212979e-05,\n",
      "       3.64594894e-05, 3.31449904e-05, 2.98304913e-05, 2.98304913e-05])]\n",
      "[2.6515992286718843e-05]\n",
      "\n"
     ]
    }
   ],
   "source": [
    "# training dataset\n",
    "train_data=scaled_data[0:training_data_len,:]\n",
    "# splitdata to x_train,y_train\n",
    "X_train=[]\n",
    "y_train=[]\n",
    "for i in range(100,len(train_data)):\n",
    "  X_train.append(train_data[i-100:i,0])\n",
    "  y_train.append(train_data[i,0])\n",
    "  if i<=100:\n",
    "    print(X_train)\n",
    "    print(y_train)\n",
    "    print()"
   ]
  },
  {
   "cell_type": "code",
   "execution_count": 70,
   "metadata": {
    "id": "bZFwwX8Wam2n"
   },
   "outputs": [],
   "source": [
    "#convert X_train,y_train to np array\n",
    "X_train,y_train=np.array(X_train),np.array(y_train)"
   ]
  },
  {
   "cell_type": "code",
   "execution_count": 72,
   "metadata": {
    "colab": {
     "base_uri": "https://localhost:8080/",
     "height": 0
    },
    "id": "vgd503T0f3Xl",
    "outputId": "5d44a8e6-f7a3-40a2-9e0b-8905971bfd1c"
   },
   "outputs": [
    {
     "data": {
      "text/plain": [
       "(6992, 100, 1)"
      ]
     },
     "execution_count": 72,
     "metadata": {},
     "output_type": "execute_result"
    }
   ],
   "source": [
    "# reshape the data\n",
    "X_train=np.reshape(X_train,(X_train.shape[0],X_train.shape[1],1))\n",
    "X_train.shape"
   ]
  },
  {
   "cell_type": "code",
   "execution_count": 67,
   "metadata": {
    "colab": {
     "base_uri": "https://localhost:8080/",
     "height": 0
    },
    "id": "gQAb8FEDt-11",
    "outputId": "de7c11c3-b672-4d9a-f617-f3110abf6373"
   },
   "outputs": [
    {
     "data": {
      "text/plain": [
       "(6992,)"
      ]
     },
     "execution_count": 67,
     "metadata": {},
     "output_type": "execute_result"
    }
   ],
   "source": [
    "y_train.shape"
   ]
  },
  {
   "cell_type": "code",
   "execution_count": 76,
   "metadata": {
    "id": "Oic-e3gfuJFI"
   },
   "outputs": [],
   "source": [
    "# building LSTM layer\n",
    "model=Sequential()\n",
    "model.add(LSTM(100,return_sequences=True,input_shape=(X_train.shape[1],1)))\n",
    "model.add(LSTM(100,return_sequences=False))\n",
    "model.add(Dense(50))\n",
    "model.add(Dense(1))"
   ]
  },
  {
   "cell_type": "code",
   "execution_count": 77,
   "metadata": {
    "id": "b1uBtLRkv48h"
   },
   "outputs": [],
   "source": [
    "# compile the model\n",
    "model.compile(optimizer='adam',loss='mean_squared_error')"
   ]
  },
  {
   "cell_type": "code",
   "execution_count": 78,
   "metadata": {
    "colab": {
     "base_uri": "https://localhost:8080/",
     "height": 0
    },
    "id": "mhYCuLBbwq0m",
    "outputId": "3562fe19-bf8a-48a2-f37f-94b14fdd8f85"
   },
   "outputs": [
    {
     "name": "stdout",
     "output_type": "stream",
     "text": [
      "6992/6992 [==============================] - 203s 28ms/step - loss: 5.1846e-05\n"
     ]
    },
    {
     "data": {
      "text/plain": [
       "<keras.callbacks.History at 0x7f66e9681410>"
      ]
     },
     "execution_count": 78,
     "metadata": {},
     "output_type": "execute_result"
    }
   ],
   "source": [
    "model.fit(X_train,y_train,batch_size=1,epochs=1)"
   ]
  },
  {
   "cell_type": "code",
   "execution_count": 87,
   "metadata": {
    "id": "nRwLupu9w3Dy"
   },
   "outputs": [],
   "source": [
    "# creating_test_set\n",
    "test_data=scaled_data[training_data_len-100:,:]\n",
    "# creating x_test,y_test\n",
    "X_test=[]\n",
    "y_test=dataset[training_data_len:,:]\n",
    "for i in range(100,len(test_data)):\n",
    "  X_test.append(test_data[i-100:i,0])"
   ]
  },
  {
   "cell_type": "code",
   "execution_count": 88,
   "metadata": {
    "id": "bPTw3Xkhy8rX"
   },
   "outputs": [],
   "source": [
    "# convert to array\n",
    "X_test=np.array(X_test)"
   ]
  },
  {
   "cell_type": "code",
   "execution_count": 90,
   "metadata": {
    "id": "rq0PJ0Nty_Me"
   },
   "outputs": [],
   "source": [
    "X_test=np.reshape(X_test,(X_test.shape[0],X_test.shape[1],1))"
   ]
  },
  {
   "cell_type": "code",
   "execution_count": 91,
   "metadata": {
    "id": "DoemXqZozzb0"
   },
   "outputs": [],
   "source": [
    "# get the models predicted price\n",
    "predictions=model.predict(X_test)\n",
    "predictions=scaler.inverse_transform(predictions)"
   ]
  },
  {
   "cell_type": "code",
   "execution_count": 94,
   "metadata": {
    "colab": {
     "base_uri": "https://localhost:8080/",
     "height": 0
    },
    "id": "0tPBhesc1OJ3",
    "outputId": "851c7456-0aef-4d5a-d268-ff680a3e3412"
   },
   "outputs": [
    {
     "data": {
      "text/plain": [
       "7.943875722363229"
      ]
     },
     "execution_count": 94,
     "metadata": {},
     "output_type": "execute_result"
    }
   ],
   "source": [
    "# get the rmse\n",
    "rmse =np.sqrt(np.mean(((predictions- y_test)**2)))\n",
    "rmse"
   ]
  },
  {
   "cell_type": "code",
   "execution_count": 98,
   "metadata": {
    "colab": {
     "base_uri": "https://localhost:8080/",
     "height": 660
    },
    "id": "fz07jvzb1jJP",
    "outputId": "4e4d2ccd-6f56-41b8-ec0e-08333f26564e"
   },
   "outputs": [
    {
     "name": "stderr",
     "output_type": "stream",
     "text": [
      "/usr/local/lib/python3.7/dist-packages/ipykernel_launcher.py:4: SettingWithCopyWarning: \n",
      "A value is trying to be set on a copy of a slice from a DataFrame.\n",
      "Try using .loc[row_indexer,col_indexer] = value instead\n",
      "\n",
      "See the caveats in the documentation: https://pandas.pydata.org/pandas-docs/stable/user_guide/indexing.html#returning-a-view-versus-a-copy\n",
      "  after removing the cwd from sys.path.\n"
     ]
    },
    {
     "data": {
      "image/png": "[encoded data removed]",
      "text/plain": [
       "<Figure size 1440x576 with 1 Axes>"
      ]
     },
     "metadata": {},
     "output_type": "display_data"
    }
   ],
   "source": [
    "# poltting data\n",
    "train=data[:training_data_len]\n",
    "valid=data[training_data_len:]\n",
    "valid[\"predictions\"]=predictions\n",
    "# visualizing\n",
    "plt.figure(figsize=(20,8))\n",
    "plt.title(\"Model\")\n",
    "plt.xlabel('Date',fontsize=20)\n",
    "plt.ylabel('Closed_price in USD($)',fontsize=20)\n",
    "plt.plot(train['Close'])\n",
    "plt.plot(valid[['Close','predictions']])\n",
    "plt.legend(['Train','Val','Predictions'],loc='lower right')\n",
    "plt.show()"
   ]
  },
  {
   "cell_type": "code",
   "execution_count": 99,
   "metadata": {
    "colab": {
     "base_uri": "https://localhost:8080/",
     "height": 447
    },
    "id": "RY1Oh8c92KXB",
    "outputId": "fb0c24d8-e526-43c5-9f9c-ca7a235e9359"
   },
   "outputs": [
    {
     "data": {
      "text/html": [
       "<div>\n",
       "<style scoped>\n",
       "    .dataframe tbody tr th:only-of-type {\n",
       "        vertical-align: middle;\n",
       "    }\n",
       "\n",
       "    .dataframe tbody tr th {\n",
       "        vertical-align: top;\n",
       "    }\n",
       "\n",
       "    .dataframe thead th {\n",
       "        text-align: right;\n",
       "    }\n",
       "</style>\n",
       "<table border=\"1\" class=\"dataframe\">\n",
       "  <thead>\n",
       "    <tr style=\"text-align: right;\">\n",
       "      <th></th>\n",
       "      <th>Close</th>\n",
       "      <th>predictions</th>\n",
       "    </tr>\n",
       "    <tr>\n",
       "      <th>Date</th>\n",
       "      <th></th>\n",
       "      <th></th>\n",
       "    </tr>\n",
       "  </thead>\n",
       "  <tbody>\n",
       "    <tr>\n",
       "      <th>2014-04-30</th>\n",
       "      <td>40.400002</td>\n",
       "      <td>39.351109</td>\n",
       "    </tr>\n",
       "    <tr>\n",
       "      <th>2014-05-01</th>\n",
       "      <td>40.000000</td>\n",
       "      <td>39.279655</td>\n",
       "    </tr>\n",
       "    <tr>\n",
       "      <th>2014-05-02</th>\n",
       "      <td>39.689999</td>\n",
       "      <td>39.011726</td>\n",
       "    </tr>\n",
       "    <tr>\n",
       "      <th>2014-05-05</th>\n",
       "      <td>39.430000</td>\n",
       "      <td>38.710167</td>\n",
       "    </tr>\n",
       "    <tr>\n",
       "      <th>2014-05-06</th>\n",
       "      <td>39.060001</td>\n",
       "      <td>38.444004</td>\n",
       "    </tr>\n",
       "    <tr>\n",
       "      <th>...</th>\n",
       "      <td>...</td>\n",
       "      <td>...</td>\n",
       "    </tr>\n",
       "    <tr>\n",
       "      <th>2021-05-07</th>\n",
       "      <td>252.460007</td>\n",
       "      <td>227.766068</td>\n",
       "    </tr>\n",
       "    <tr>\n",
       "      <th>2021-05-10</th>\n",
       "      <td>247.179993</td>\n",
       "      <td>230.323090</td>\n",
       "    </tr>\n",
       "    <tr>\n",
       "      <th>2021-05-11</th>\n",
       "      <td>246.229996</td>\n",
       "      <td>228.200958</td>\n",
       "    </tr>\n",
       "    <tr>\n",
       "      <th>2021-05-12</th>\n",
       "      <td>239.000000</td>\n",
       "      <td>226.403519</td>\n",
       "    </tr>\n",
       "    <tr>\n",
       "      <th>2021-05-13</th>\n",
       "      <td>243.029999</td>\n",
       "      <td>221.467026</td>\n",
       "    </tr>\n",
       "  </tbody>\n",
       "</table>\n",
       "<p>1773 rows × 2 columns</p>\n",
       "</div>"
      ],
      "text/plain": [
       "                 Close  predictions\n",
       "Date                               \n",
       "2014-04-30   40.400002    39.351109\n",
       "2014-05-01   40.000000    39.279655\n",
       "2014-05-02   39.689999    39.011726\n",
       "2014-05-05   39.430000    38.710167\n",
       "2014-05-06   39.060001    38.444004\n",
       "...                ...          ...\n",
       "2021-05-07  252.460007   227.766068\n",
       "2021-05-10  247.179993   230.323090\n",
       "2021-05-11  246.229996   228.200958\n",
       "2021-05-12  239.000000   226.403519\n",
       "2021-05-13  243.029999   221.467026\n",
       "\n",
       "[1773 rows x 2 columns]"
      ]
     },
     "execution_count": 99,
     "metadata": {},
     "output_type": "execute_result"
    }
   ],
   "source": [
    "# cross verifying through report\n",
    "valid"
   ]
  },
  {
   "cell_type": "code",
   "execution_count": null,
   "metadata": {
    "id": "fiMWEFjt3yd5"
   },
   "outputs": [],
   "source": []
  },
  {
   "cell_type": "code",
   "execution_count": null,
   "metadata": {
    "colab": {
     "base_uri": "https://localhost:8080/",
     "height": 447
    },
    "id": "cl560ECN5qoB",
    "outputId": "4b2d8660-fcc1-49fb-f82f-3d01b13db192"
   },
   "outputs": [],
   "source": []
  },
  {
   "cell_type": "code",
   "execution_count": null,
   "metadata": {
    "id": "y0mfPMqn5xgI"
   },
   "outputs": [],
   "source": []
  }
 ],
 "metadata": {
  "accelerator": "GPU",
  "colab": {
   "collapsed_sections": [],
   "name": "MSFT_Stock_prediction.ipynb",
   "provenance": []
  },
  "kernelspec": {
   "display_name": "Python 3",
   "language": "python",
   "name": "python3"
  },
  "language_info": {
   "codemirror_mode": {
    "name": "ipython",
    "version": 3
   },
   "file_extension": ".py",
   "mimetype": "text/x-python",
   "name": "python",
   "nbconvert_exporter": "python",
   "pygments_lexer": "ipython3",
   "version": "3.8.8"
  }
 },
 "nbformat": 4,
 "nbformat_minor": 1
}
